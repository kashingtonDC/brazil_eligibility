{
 "cells": [
  {
   "cell_type": "code",
   "execution_count": 1,
   "id": "cc020969",
   "metadata": {},
   "outputs": [],
   "source": [
    "import os\n",
    "import ee\n",
    "import fiona\n",
    "\n",
    "import numpy as np\n",
    "import pandas as pd\n",
    "import geopandas as gp\n",
    "import rasterio as rio\n",
    "import matplotlib.pyplot as plt\n",
    "\n",
    "from shapely.geometry import Polygon, LineString, shape, mapping\n",
    "\n",
    "from tqdm import tqdm\n",
    "\n",
    "ee.Initialize()\n",
    "\n",
    "gp.io.file.fiona.drvsupport.supported_drivers['LIBKML'] = 'rw'\n",
    "fiona.supported_drivers['KML'] = 'rw'"
   ]
  },
  {
   "cell_type": "code",
   "execution_count": 2,
   "id": "4d4f0665",
   "metadata": {},
   "outputs": [],
   "source": [
    "# Helpers \n",
    "\n",
    "def array_from_df(df, variable):    \n",
    "    '''\n",
    "    Convets a pandas df with lat, lon, variable to a numpy array \n",
    "    Params:\n",
    "    df - class pd.DataFrame\n",
    "    variable - str e.g. \"B1\"\n",
    "    '''\n",
    "    # get data from df as arrays\n",
    "    lons = np.array(df.longitude)\n",
    "    lats = np.array(df.latitude)\n",
    "    data = np.array(df[variable]).astype(float) # Set var here \n",
    "\n",
    "    # get the unique coordinates\n",
    "    uniqueLats = np.unique(lats)\n",
    "    uniqueLons = np.unique(lons)\n",
    "\n",
    "    # get number of columns and rows from coordinates\n",
    "    ncols = len(uniqueLons)    \n",
    "    nrows = len(uniqueLats)\n",
    "\n",
    "    # determine pixelsizes\n",
    "    ys = uniqueLats[1] - uniqueLats[0] \n",
    "    xs = uniqueLons[1] - uniqueLons[0]\n",
    "\n",
    "    # create an array with dimensions of image\n",
    "    arr = np.zeros([nrows, ncols], np.float32)\n",
    "\n",
    "    # fill the array with values\n",
    "    counter =0\n",
    "    for y in range(0,len(arr),1):\n",
    "        for x in range(0,len(arr[0]),1):\n",
    "            if lats[counter] == uniqueLats[y] and lons[counter] == uniqueLons[x] and counter < len(lats)-1:\n",
    "                counter+=1\n",
    "                arr[len(uniqueLats)-1-y,x] = data[counter] # start from lower left corner\n",
    "\n",
    "    return arr\n",
    "\n",
    "def get_im(im,area, var_name):\n",
    "    im = ee.ImageCollection(im.clip(area).select(var_name))\n",
    "    result = im.getRegion(area,30,\"epsg:4326\").getInfo()\n",
    "    header, data = result[0], result[1:]\n",
    "\n",
    "    df = pd.DataFrame(np.column_stack(data).T, columns = header)\n",
    "    df.latitude = pd.to_numeric(df.latitude)\n",
    "    df.longitude = pd.to_numeric(df.longitude)\n",
    "    df[var_name] = pd.to_numeric(df[var_name])\n",
    "\n",
    "    results = []\n",
    "    images = []\n",
    "    for idx,i in enumerate(df.id.unique()):\n",
    "\n",
    "        t1 = df[df.id==i]\n",
    "        arr = array_from_df(t1,var_name)\n",
    "#         arr[arr == 0] = np.nan\n",
    "        images.append(arr)\n",
    "    results.append(images) \n",
    "    results_out = [item for sublist in results for item in sublist]\n",
    "    \n",
    "    return results_out[0]\n",
    "\n",
    "def apply_mask(im, mask_im):\n",
    "    return np.where(mask_im !=0, im, np.nan)\n",
    "\n",
    "def gdf_to_ee_poly(gdf, simplify = False):\n",
    "\n",
    "    if simplify:\n",
    "        gdf = gdf.geometry.simplify(0.01)\n",
    "\n",
    "    lls = gdf.geometry.iloc[0]\n",
    "    x,y = lls.exterior.coords.xy\n",
    "    coords = [list(zip(x,y))]\n",
    "    area = ee.Geometry.Polygon(coords)\n",
    "\n",
    "    return area\n",
    "\n",
    "\n",
    "\n",
    "def LineString_to_Poly(file):\n",
    "    '''\n",
    "    convert a shpfile of linestring geom type to polygon geom type \n",
    "    '''\n",
    "    \n",
    "    output = os.path.join(os.path.split(file)[0],os.path.split(file)[1].split(\".\")[0] + \"_poly.shp\")\n",
    "    \n",
    "    with fiona.open(file) as in_file, fiona.open(output, 'w', 'ESRI Shapefile', {'geometry': 'Polygon',\n",
    "        'properties' : {'id':'int'}}) as out_file:\n",
    "        for index_line, row in enumerate(in_file):\n",
    "            line = shape(row['geometry'])\n",
    "            coordinates = []\n",
    "\n",
    "            if isinstance(line, LineString):\n",
    "                for index, point in enumerate(line.coords):\n",
    "                    if index == 0:\n",
    "                        first_pt = point\n",
    "                    coordinates.append(point)\n",
    "\n",
    "                coordinates.append(first_pt)\n",
    "                if len(coordinates) >= 3:\n",
    "                    polygon = Polygon(coordinates)\n",
    "                    out_file.write({\n",
    "                        'geometry': mapping(polygon),\n",
    "                        'properties': {'id': index_line},\n",
    "                    })\n",
    "                    \n",
    "        print(\"Wrote {}\".format(output))\n",
    "    \n",
    "    return gp.read_file(output)\n",
    "\n",
    "# def shp2kml(shpfn, kmlfn):\n",
    "#     convert_command = '''ogr2ogr -f 'ESRI Shapefile' {} {} -overwrite'''.format(kmlfn, shpfn)\n",
    "#     print(convert_command)\n",
    "#     os.system(convert_command)\n",
    "#     return kmlfn"
   ]
  },
  {
   "cell_type": "code",
   "execution_count": 3,
   "id": "0be1dc8c",
   "metadata": {},
   "outputs": [],
   "source": [
    "# Remove any space in kmls \n",
    "kmls = [os.path.join(\"../shape\",x) for x in os.listdir(\"../shape/\") if x.endswith(\"kml\")]\n",
    "kmls_renamed = [os.path.abspath(x.replace(\" \", \"\")) for x in kmls]\n",
    "\n",
    "for kml_raw, kml_renamed in zip(kmls, kmls_renamed):\n",
    "    if not os.path.exists(kml_renamed):\n",
    "        os.rename(kml_raw, kml_renamed)\n",
    "\n",
    "# # Convert all kmls to shapefiles (if they dont already exist)\n",
    "# outfns = [os.path.split(x)[1].split(\".\")[0].split(\" \")[0]+\".shp\" for x in kmls]\n",
    "# outpaths = [os.path.abspath(os.path.join(\"../shape\",x)) for x in outfns]\n",
    "\n",
    "# for shp, kml in zip(outpaths, kmls_renamed):\n",
    "#     if not os.path.exists(shp):\n",
    "#         os.chdir(\"../shape\")\n",
    "#         convert_command = '''ogr2ogr -f 'ESRI Shapefile' {} {} '''.format(shp, kml)\n",
    "#         print(convert_command)\n",
    "#         os.system(convert_command)  "
   ]
  },
  {
   "cell_type": "code",
   "execution_count": 4,
   "id": "f4fa4272",
   "metadata": {},
   "outputs": [
    {
     "name": "stderr",
     "output_type": "stream",
     "text": [
      "/Users/aakashahamed/anaconda3/envs/rsenv/lib/python3.8/site-packages/geopandas/geodataframe.py:577: RuntimeWarning: Sequential read of iterator was interrupted. Resetting iterator. This can negatively impact the performance.\n",
      "  for feature in features_lst:\n"
     ]
    }
   ],
   "source": [
    "fn = \"../shape/KML_FVR.kml\"\n",
    "gdf = gp.read_file(fn)\n",
    "\n",
    "if gdf.geometry.geom_type[0] == \"LineString\":\n",
    "    gdf = LineString_to_Poly(fn)\n",
    "    os.remove(os.path.abspath(fn))\n",
    "    gdf.to_file(fn, driver='KML',  overwrite = True)"
   ]
  },
  {
   "cell_type": "code",
   "execution_count": 5,
   "id": "66b4f085",
   "metadata": {},
   "outputs": [],
   "source": [
    "# Read the kml file (make sure to set gp.io.file.fiona.drvsupport.supported_drivers['LIBKML'] = 'rw')\n",
    "\n",
    "fn = \"../shape/KML_FVR.kml\"\n",
    "\n",
    "# extract all layers \n",
    "gdf_list = []\n",
    "for layer in fiona.listlayers(fn):    \n",
    "    gdf = gp.read_file(fn, driver='LIBKML', layer=layer)\n",
    "    if gdf.geometry.geom_type[0] == \"Polygon\":\n",
    "        gdf_list.append(gdf)\n",
    "\n",
    "# concat to gdf  \n",
    "gdf = gp.GeoDataFrame(pd.concat(gdf_list, ignore_index=True))\n",
    "# convert to ee object\n",
    "area = gdf_to_ee_poly(gdf)\n",
    "# Get area of gdf in sq km \n",
    "area_sqkm = area.area(1).getInfo() * 1e-6 # Sq m to sq km"
   ]
  },
  {
   "cell_type": "code",
   "execution_count": 6,
   "id": "ac73e030",
   "metadata": {},
   "outputs": [],
   "source": [
    "# global forest watch data \n",
    "gfw = ee.Image('UMD/hansen/global_forest_change_2022_v1_10')\n",
    "\n",
    "# Nasa tree cover data \n",
    "nasa_tc_2000 = ee.ImageCollection('NASA/MEASURES/GFCC/TC/v3').filter(ee.Filter.date('2000-01-01', '2000-12-31')).select('tree_canopy_cover').mean()\n",
    "nasa_tc_2005 = ee.ImageCollection('NASA/MEASURES/GFCC/TC/v3').filter(ee.Filter.date('2005-01-01', '2005-12-31')).select('tree_canopy_cover').mean()\n",
    "nasa_tc_2010 = ee.ImageCollection('NASA/MEASURES/GFCC/TC/v3').filter(ee.Filter.date('2010-01-01', '2010-12-31')).select('tree_canopy_cover').mean()\n",
    "nasa_tc_2015 = ee.ImageCollection('NASA/MEASURES/GFCC/TC/v3').filter(ee.Filter.date('2015-01-01', '2015-12-31')).select('tree_canopy_cover').mean()\n",
    "\n",
    "nasa_uc_2000 = ee.ImageCollection('NASA/MEASURES/GFCC/TC/v3').filter(ee.Filter.date('2000-01-01', '2000-12-31')).select('uncertainty').mean()\n",
    "nasa_uc_2005 = ee.ImageCollection('NASA/MEASURES/GFCC/TC/v3').filter(ee.Filter.date('2005-01-01', '2005-12-31')).select('uncertainty').mean()\n",
    "nasa_uc_2010 = ee.ImageCollection('NASA/MEASURES/GFCC/TC/v3').filter(ee.Filter.date('2010-01-01', '2010-12-31')).select('uncertainty').mean()\n",
    "nasa_uc_2015 = ee.ImageCollection('NASA/MEASURES/GFCC/TC/v3').filter(ee.Filter.date('2015-01-01', '2015-12-31')).select('uncertainty').mean()\n"
   ]
  },
  {
   "cell_type": "markdown",
   "id": "25787514",
   "metadata": {},
   "source": [
    "# Info about NASA tree cover product\n",
    "\n",
    "The Landsat Vegetation Continuous Fields (VCF) tree cover layers contain estimates of the percentage of horizontal ground in each 30-m pixel covered by woody vegetation greater than 5 meters in height. The dataset is available for four epochs centered on the years 2000, 2005, 2010 and 2015. The dataset is derived from the GFCC Surface Reflectance product (GFCC30SR), which is based on enhanced Global Land Survey (GLS) datasets. The GLS datasets are composed of high-resolution Landsat 5 Thematic Mapper (TM) and Landsat 7 Enhanced Thematic Mapper Plus (ETM+) images at 30 meter resolution.\n",
    "\n",
    "Tree cover, the proportional, vertically projected area of vegetation (including leaves, stems, branches, etc.) of woody plants above a given height, affects terrestrial energy and water exchanges, photosynthesis and transpiration, net primary production, and carbon and nutrient fluxes. Tree cover also affects habitat quality and movements of wildlife, residential property value for humans, and other ecosystem services. The continuous classification scheme of the VCF product enables better depiction of land cover gradients than traditional discrete classification schemes. Importantly for detection and monitoring of forest changes (e.g., deforestation and degradation), tree cover provides a measurable attribute upon which to define forest cover and its changes. Changes in tree cover over time can be used to monitor and retrieve site-specific histories of forest change.\n",
    "\n",
    "from: https://developers.google.com/earth-engine/datasets/catalog/NASA_MEASURES_GFCC_TC_v3#bands\n",
    "\n",
    "### Key takeaways\n",
    "* trusted and vetted data source - NASA + GLCF project (MODIS + Landsat), validated against lidar\n",
    "* 30m spatial resolution\n",
    "* 5y temporal cadence\n",
    "* RMSE included"
   ]
  },
  {
   "cell_type": "code",
   "execution_count": 7,
   "id": "a938fc93",
   "metadata": {},
   "outputs": [],
   "source": [
    "# Query the nasa data [TODO: Loop x tqdm this]\n",
    "t_2000 = get_im(nasa_tc_2000, area, 'tree_canopy_cover')\n",
    "t_2005 = get_im(nasa_tc_2005, area, 'tree_canopy_cover')\n",
    "t_2010 = get_im(nasa_tc_2010, area, 'tree_canopy_cover')\n",
    "t_2015 = get_im(nasa_tc_2015, area, 'tree_canopy_cover')\n",
    "\n",
    "# build a mask from the zeros across all maps\n",
    "tc_stack = np.dstack([t_2000,t_2005,t_2010,t_2015]).sum(axis=2)\n",
    "mask = tc_stack!=0"
   ]
  },
  {
   "cell_type": "code",
   "execution_count": 8,
   "id": "c1f87f70",
   "metadata": {},
   "outputs": [
    {
     "data": {
      "image/png": "[encoded data removed]",
      "text/plain": [
       "<Figure size 936x432 with 8 Axes>"
      ]
     },
     "metadata": {
      "needs_background": "light"
     },
     "output_type": "display_data"
    }
   ],
   "source": [
    "t_2000, t_2005, t_2010, t_2015 = [apply_mask(x, mask) for x in [t_2000, t_2005, t_2010, t_2015]]\n",
    "\n",
    "# get max val for plotting\n",
    "maxval = np.nanmax(np.dstack([t_2005,t_2010,t_2015]))\n",
    "\n",
    "# plot maps \n",
    "plt.figure(figsize = (13,6))\n",
    "plt.subplot(141)\n",
    "plt.imshow(t_2000, vmin = 0, vmax = maxval); plt.colorbar(fraction=0.035, pad=0.04); plt.title(\"% Treeecover / pixel (2000)\")\n",
    "plt.xticks([], []); plt.yticks([], [])\n",
    "plt.subplot(142)\n",
    "plt.imshow(t_2005, vmin = 0, vmax = maxval); plt.colorbar(fraction=0.035, pad=0.04); plt.title(\"% Treeecover / pixel (2005)\")\n",
    "plt.xticks([], []); plt.yticks([], [])\n",
    "plt.subplot(143)\n",
    "plt.imshow(t_2010, vmin = 0, vmax = maxval); plt.colorbar(fraction=0.035, pad=0.04); plt.title(\"% Treeecover / pixel (2010)\")\n",
    "plt.xticks([], []); plt.yticks([], [])\n",
    "plt.subplot(144)\n",
    "plt.imshow(t_2015, vmin = 0, vmax = maxval); plt.colorbar(fraction=0.035, pad=0.04); plt.title(\"% Treeecover / pixel (2015)\")\n",
    "plt.xticks([], []); plt.yticks([], [])\n",
    "\n",
    "plt.tight_layout()\n",
    "plt.show()"
   ]
  },
  {
   "cell_type": "code",
   "execution_count": null,
   "id": "451281b6",
   "metadata": {},
   "outputs": [],
   "source": []
  },
  {
   "cell_type": "code",
   "execution_count": 9,
   "id": "bbd428da",
   "metadata": {},
   "outputs": [],
   "source": [
    "\n",
    "# Get the RMSE from the nasa data [TODO: Loop x tqdm this]\n",
    "u_2000 = get_im(nasa_uc_2000, area, 'uncertainty')\n",
    "u_2005 = get_im(nasa_uc_2005, area, 'uncertainty')\n",
    "u_2010 = get_im(nasa_uc_2010, area, 'uncertainty')\n",
    "u_2015 = get_im(nasa_uc_2015, area, 'uncertainty')"
   ]
  },
  {
   "cell_type": "code",
   "execution_count": 10,
   "id": "df4ffc8b",
   "metadata": {},
   "outputs": [
    {
     "data": {
      "image/png": "[encoded data removed]",
      "text/plain": [
       "<Figure size 936x432 with 8 Axes>"
      ]
     },
     "metadata": {
      "needs_background": "light"
     },
     "output_type": "display_data"
    }
   ],
   "source": [
    "u_2000, u_2005, u_2010, u_2015 = [apply_mask(x, mask) * 0.01 for x in [u_2000, u_2005, u_2010, u_2015]]\n",
    "\n",
    "# get max val for plotting\n",
    "maxval = np.nanpercentile(np.dstack([u_2000,u_2005,u_2010,u_2015]), 100)\n",
    "\n",
    "# plot maps \n",
    "plt.figure(figsize = (13,6))\n",
    "plt.subplot(141)\n",
    "plt.imshow(u_2000, vmin = 0, vmax = maxval); plt.colorbar(fraction=0.035, pad=0.04); plt.title(\"Canopy cover RMSE (2000)\")\n",
    "plt.xticks([], []); plt.yticks([], [])\n",
    "plt.subplot(142)\n",
    "plt.imshow(u_2005, vmin = 0, vmax = maxval); plt.colorbar(fraction=0.035, pad=0.04); plt.title(\"Canopy cover RMSE (2005)\")\n",
    "plt.xticks([], []); plt.yticks([], [])\n",
    "plt.subplot(143)\n",
    "plt.imshow(u_2010, vmin = 0, vmax = maxval); plt.colorbar(fraction=0.035, pad=0.04); plt.title(\"Canopy cover RMSE (2010)\")\n",
    "plt.xticks([], []); plt.yticks([], [])\n",
    "plt.subplot(144)\n",
    "plt.imshow(u_2015, vmin = 0, vmax = maxval); plt.colorbar(fraction=0.035, pad=0.04); plt.title(\"Canopy cover RMSE (2015)\")\n",
    "plt.xticks([], []); plt.yticks([], [])\n",
    "\n",
    "plt.tight_layout()\n",
    "plt.show()"
   ]
  },
  {
   "cell_type": "code",
   "execution_count": null,
   "id": "6ecfe429",
   "metadata": {},
   "outputs": [],
   "source": []
  },
  {
   "cell_type": "code",
   "execution_count": 11,
   "id": "cad1b6c1",
   "metadata": {},
   "outputs": [],
   "source": [
    "upper_2000, lower_2000 = t_2000 + (u_2000* t_2000), t_2000 - (u_2000 * t_2000)\n",
    "upper_2005, lower_2005 = t_2005 + (u_2005* t_2005), t_2005 - (u_2005 * t_2005)\n",
    "upper_2010, lower_2010 = t_2010 + (u_2010* t_2010), t_2010 - (u_2010 * t_2010)\n",
    "upper_2015, lower_2015 = t_2015 + (u_2015* t_2015), t_2015 - (u_2015 * t_2015)"
   ]
  },
  {
   "cell_type": "code",
   "execution_count": 12,
   "id": "c759218d",
   "metadata": {},
   "outputs": [],
   "source": [
    "low_means = [np.nanmean(x) * 0.01 * area_sqkm for x in [lower_2000, lower_2005, lower_2010, lower_2015]]\n",
    "up_means = [np.nanmean(x)* 0.01 * area_sqkm for x in [upper_2000, upper_2005, upper_2010, upper_2015]]\n",
    "means = [np.nanmean(x) * 0.01 * area_sqkm for x in [t_2000, t_2005, t_2010, t_2015]]"
   ]
  },
  {
   "cell_type": "code",
   "execution_count": 13,
   "id": "40060a57",
   "metadata": {},
   "outputs": [
    {
     "data": {
      "text/plain": [
       "Text(0.5, 0, 'year')"
      ]
     },
     "execution_count": 13,
     "metadata": {},
     "output_type": "execute_result"
    },
    {
     "data": {
      "text/plain": [
       "<Figure size 576x216 with 0 Axes>"
      ]
     },
     "metadata": {},
     "output_type": "display_data"
    },
    {
     "data": {
      "image/png": "[encoded data removed]",
      "text/plain": [
       "<Figure size 460.8x316.8 with 1 Axes>"
      ]
     },
     "metadata": {
      "needs_background": "light"
     },
     "output_type": "display_data"
    }
   ],
   "source": [
    "plt.style.use('seaborn-paper')\n",
    "\n",
    "tcdf = pd.DataFrame([low_means, means, up_means]).T\n",
    "tcdf.columns = ['lower bound', 'treecover area (sq km)', 'upper bound']\n",
    "tcdf['date'] = [2000, 2005, 2010, 2015]\n",
    "tcdf.index = [2000, 2005, 2010, 2015]\n",
    "\n",
    "plt.figure(figsize = (8,3))\n",
    "tcdf.plot(y = 'treecover area (sq km)', x = 'date', yerr=[tcdf['lower bound'], tcdf['upper bound']],fontsize = 12, marker = \"o\", markersize = 12, color = 'blue', capsize=4,capthick=3)\n",
    "plt.grid()\n",
    "plt.ylabel(\"Treecover (sq km)\", size = 15)\n",
    "plt.xlabel(\"year\", size = 15)"
   ]
  },
  {
   "cell_type": "code",
   "execution_count": null,
   "id": "24a2f81e",
   "metadata": {},
   "outputs": [],
   "source": []
  },
  {
   "cell_type": "code",
   "execution_count": 14,
   "id": "a3d0258b",
   "metadata": {},
   "outputs": [],
   "source": [
    "treecover_sq_km_2000 = area_sqkm * np.nanmean(t_2000) * 0.01   # Area * mean treecover / px * percent to fraction\n",
    "treecover_sq_km_2005 = area_sqkm * np.nanmean(t_2005) * 0.01   # Area * mean treecover / px * percent to fraction\n",
    "treecover_sq_km_2010 = area_sqkm * np.nanmean(t_2010) * 0.01   # Area * mean treecover / px \n",
    "treecover_sq_km_2015 = area_sqkm  * np.nanmean(t_2015) * 0.01   # Area * mean treecover / px "
   ]
  },
  {
   "cell_type": "code",
   "execution_count": 15,
   "id": "741a3145",
   "metadata": {},
   "outputs": [
    {
     "name": "stdout",
     "output_type": "stream",
     "text": [
      "2000 treecover area = 0.07528207655309392 sq km\n",
      "2005 treecover area = 0.07551798509443158 sq km\n",
      "2010 treecover area = 0.11442982409086973 sq km\n",
      "2015 treecover area = 0.11766135364968781 sq km\n",
      "2000 treecover fraction = 5.976325035095216 %\n",
      "2005 treecover fraction = 5.9950528144836435 %\n",
      "2010 treecover fraction = 9.084098815917969 %\n",
      "2015 treecover fraction = 9.340636253356934 %\n"
     ]
    }
   ],
   "source": [
    "print(\"2000 treecover area = {} sq km\".format(treecover_sq_km_2000))\n",
    "print(\"2005 treecover area = {} sq km\".format(treecover_sq_km_2005))\n",
    "print(\"2010 treecover area = {} sq km\".format(treecover_sq_km_2010))\n",
    "print(\"2015 treecover area = {} sq km\".format(treecover_sq_km_2015))\n",
    "\n",
    "print(\"2000 treecover fraction = {} %\".format(treecover_sq_km_2000 / area_sqkm* 100))\n",
    "print(\"2005 treecover fraction = {} %\".format(treecover_sq_km_2005 / area_sqkm* 100))\n",
    "print(\"2010 treecover fraction = {} %\".format(treecover_sq_km_2010 / area_sqkm* 100))\n",
    "print(\"2015 treecover fraction = {} %\".format(treecover_sq_km_2015 / area_sqkm* 100))"
   ]
  },
  {
   "cell_type": "code",
   "execution_count": null,
   "id": "550433b8",
   "metadata": {},
   "outputs": [],
   "source": []
  },
  {
   "cell_type": "markdown",
   "id": "44773d15",
   "metadata": {},
   "source": [
    "# Global Forest Watch Data \n",
    "\n",
    "https://developers.google.com/earth-engine/datasets/catalog/UMD_hansen_global_forest_change_2022_v1_10\n",
    "\n",
    "Forest loss during the study period, defined as a stand-replacement disturbance (a change from a forest to non-forest state).\n",
    "\n",
    "Forest gain during the period 2000-2012, defined as the inverse of loss (a non-forest to forest change entirely within the study period). Note that this has not been updated in subsequent versions.\n"
   ]
  },
  {
   "cell_type": "code",
   "execution_count": 16,
   "id": "322aca52",
   "metadata": {},
   "outputs": [],
   "source": [
    "gfw_tc_2000_im = ee.Image('UMD/hansen/global_forest_change_2022_v1_10').select(\"treecover2000\")\n",
    "gfw_loss_im = ee.Image('UMD/hansen/global_forest_change_2022_v1_10').select(\"loss\")\n",
    "gfw_gain_im = ee.Image('UMD/hansen/global_forest_change_2022_v1_10').select(\"gain\")"
   ]
  },
  {
   "cell_type": "code",
   "execution_count": null,
   "id": "894b7e99",
   "metadata": {},
   "outputs": [],
   "source": []
  },
  {
   "cell_type": "code",
   "execution_count": 17,
   "id": "a9b45761",
   "metadata": {},
   "outputs": [],
   "source": [
    "gfw_t_2000 = get_im(gfw_tc_2000_im, area, \"treecover2000\")\n",
    "gfw_loss = get_im(gfw_loss_im, area, \"loss\")\n",
    "gfw_gain = get_im(gfw_gain_im, area, \"gain\")"
   ]
  },
  {
   "cell_type": "code",
   "execution_count": 18,
   "id": "ac3b6573",
   "metadata": {},
   "outputs": [],
   "source": [
    "gfw_t_2000, gfw_loss, gfw_gain = [apply_mask(x, mask) for x in [gfw_t_2000, gfw_loss, gfw_gain]]\n"
   ]
  },
  {
   "cell_type": "code",
   "execution_count": 19,
   "id": "2dbec230",
   "metadata": {},
   "outputs": [
    {
     "data": {
      "image/png": "[encoded data removed]",
      "text/plain": [
       "<Figure size 720x432 with 6 Axes>"
      ]
     },
     "metadata": {
      "needs_background": "light"
     },
     "output_type": "display_data"
    }
   ],
   "source": [
    "plt.figure(figsize = (10,6))\n",
    "plt.subplot(131)\n",
    "plt.imshow(gfw_t_2000); plt.colorbar(fraction=0.035, pad=0.04); plt.title(\"% Treeecover (2000)\")\n",
    "plt.xticks([], []); plt.yticks([], [])\n",
    "plt.subplot(132)\n",
    "plt.imshow(gfw_loss, vmin = 0, vmax = 1, cmap = 'Reds'); plt.colorbar(fraction=0.035, pad=0.04); plt.title(\"forest loss (2000 - 2022)\")\n",
    "plt.xticks([], []); plt.yticks([], [])\n",
    "plt.subplot(133)\n",
    "plt.imshow(gfw_gain, vmin = 0, vmax = 1, cmap = 'Greens'); plt.colorbar(fraction=0.035, pad=0.04); plt.title(\"forest gain (2000 - 2012)\")\n",
    "plt.xticks([], []); plt.yticks([], [])\n",
    "\n",
    "plt.tight_layout()\n",
    "plt.show()"
   ]
  },
  {
   "cell_type": "code",
   "execution_count": 20,
   "id": "6abfa7cc",
   "metadata": {},
   "outputs": [],
   "source": [
    "# Loss / Gain statistics"
   ]
  },
  {
   "cell_type": "code",
   "execution_count": 21,
   "id": "d3bfee46",
   "metadata": {},
   "outputs": [],
   "source": [
    "treecover_sq_km_2000 = area_sqkm * np.nanmean(gfw_t_2000) * 0.01   # Area * mean treecover / px \n",
    "\n",
    "loss_2000_2020 = np.nansum(gfw_loss) / (gfw_loss.shape[0] * gfw_loss.shape[1]) # fraction of treecover loss\n",
    "gain_2000_2012 = np.nansum(gfw_gain) / (gfw_gain.shape[0] * gfw_gain.shape[1]) # fraction of treecover gain\n",
    "\n",
    "loss_sqkm = loss_2000_2020 * area_sqkm\n",
    "gain_sqkm = gain_2000_2012 * area_sqkm"
   ]
  },
  {
   "cell_type": "code",
   "execution_count": 22,
   "id": "31651945",
   "metadata": {},
   "outputs": [
    {
     "name": "stdout",
     "output_type": "stream",
     "text": [
      "Forest Loss (2000 - 2020) = 1.542 ha (0.015 sq km)\n",
      "Forest Gain (2000 - 2012) = 0.0 ha (0.0 sq km)\n",
      "Forest Loss fraction = 1.2241054613935969 %\n",
      "Forest Gain fraction = 0.0 %\n"
     ]
    }
   ],
   "source": [
    "print(\"Forest Loss (2000 - 2020) = {} ha ({} sq km)\".format(round(loss_sqkm*100,3),round(loss_sqkm,3)))\n",
    "print(\"Forest Gain (2000 - 2012) = {} ha ({} sq km)\".format(round(gain_sqkm*100,3),round(gain_sqkm,3)))\n",
    "\n",
    "print(\"Forest Loss fraction = {} %\".format((loss_sqkm/area_sqkm)*100))\n",
    "print(\"Forest Gain fraction = {} %\".format((gain_sqkm/area_sqkm)*100))"
   ]
  },
  {
   "cell_type": "code",
   "execution_count": null,
   "id": "2bd21093",
   "metadata": {},
   "outputs": [],
   "source": []
  },
  {
   "cell_type": "markdown",
   "id": "522106e8",
   "metadata": {},
   "source": [
    "# Globcover Landcover (2009)\n",
    "\n",
    "https://developers.google.com/earth-engine/datasets/catalog/ESA_GLOBCOVER_L4_200901_200912_V2_3\n",
    "\n",
    "Not putting much stock into this since it's outdated"
   ]
  },
  {
   "cell_type": "code",
   "execution_count": 23,
   "id": "9814f73a",
   "metadata": {},
   "outputs": [],
   "source": [
    "lc_ds = ee.Image('ESA/GLOBCOVER_L4_200901_200912_V2_3').select('landcover');"
   ]
  },
  {
   "cell_type": "code",
   "execution_count": 24,
   "id": "ef33e8f6",
   "metadata": {},
   "outputs": [],
   "source": [
    "lc_09 = get_im(lc_ds, area, \"landcover\")"
   ]
  },
  {
   "cell_type": "code",
   "execution_count": 25,
   "id": "f5d8a48d",
   "metadata": {},
   "outputs": [],
   "source": [
    "lc_09[lc_09 == 0] = np.nan"
   ]
  },
  {
   "cell_type": "code",
   "execution_count": 26,
   "id": "0d48f254",
   "metadata": {},
   "outputs": [],
   "source": [
    "def globim2df(cdl_im):\n",
    "    '''converts numpy array of crop values to pd dataframe with crop categories'''\n",
    "    # Read cdl lookup table\n",
    "    df = pd.read_excel(\"globcover_lookup.xlsx\")\n",
    "    cdl_lookup = dict(zip(df['Value'],df['Category']))\n",
    "    # Extract the non-nan class values \n",
    "    cropvals = [int(x) for x in cdl_im.flatten()[~np.isnan(cdl_im.flatten())]]\n",
    "    ctypes = []\n",
    "    for i in cropvals:\n",
    "        ctypes.append(cdl_lookup[i])\n",
    "    # count each unique crop type\n",
    "    values, counts = np.unique(ctypes, return_counts=True)\n",
    "    # Compile results as dataframe and plot \n",
    "    cdf = pd.DataFrame([values, counts]).T\n",
    "    cdf.columns = ['type', 'npixels']\n",
    "    cdf['hectares'] = cdf['npixels'] * 900 * 0.0001 # 900 sq m / pixel --> hectares\n",
    "    return cdf\n"
   ]
  },
  {
   "cell_type": "code",
   "execution_count": 27,
   "id": "84908ed3",
   "metadata": {},
   "outputs": [],
   "source": [
    "ctypes = globim2df(lc_09)"
   ]
  },
  {
   "cell_type": "code",
   "execution_count": 28,
   "id": "8d24a884",
   "metadata": {},
   "outputs": [
    {
     "data": {
      "text/plain": [
       "<Figure size 460.8x316.8 with 0 Axes>"
      ]
     },
     "metadata": {},
     "output_type": "display_data"
    },
    {
     "data": {
      "image/png": "[encoded data removed]",
      "text/plain": [
       "<Figure size 720x360 with 1 Axes>"
      ]
     },
     "metadata": {
      "needs_background": "light"
     },
     "output_type": "display_data"
    }
   ],
   "source": [
    "plt.figure()\n",
    "ctypes.plot(kind = 'bar',x='type', y='hectares',figsize = (10,5))\n",
    "plt.xticks(rotation=90)\n",
    "plt.ylabel(\"hectares\")\n",
    "plt.show()"
   ]
  },
  {
   "cell_type": "code",
   "execution_count": 29,
   "id": "c58fb620",
   "metadata": {},
   "outputs": [],
   "source": [
    "def dict2arr(data_dict, var_name):\n",
    "    '''converts ee dictionary output from .getInfo() to a numpy array. Wraps array_from_df'''\n",
    "    data = data_dict[var_name]\n",
    "    lats = data_dict['latitude']\n",
    "    lons = data_dict['longitude']\n",
    "    df = pd.DataFrame([data,lats,lons]).T\n",
    "    df.columns = [var_name, \"latitude\", 'longitude']\n",
    "    arr = array_from_df(df, var_name)\n",
    "    return arr\n"
   ]
  },
  {
   "cell_type": "code",
   "execution_count": null,
   "id": "4787bf9a",
   "metadata": {},
   "outputs": [],
   "source": []
  },
  {
   "cell_type": "markdown",
   "id": "5d509baa",
   "metadata": {},
   "source": [
    "# Forest / Non forest from JAXA + PALSAR\n",
    "\n",
    "https://developers.google.com/earth-engine/datasets/catalog/JAXA_ALOS_PALSAR_YEARLY_FNF\n",
    "\n",
    "The global forest/non-forest map (FNF) is generated by classifying the SAR image (backscattering coefficient) in the global 25m resolution PALSAR-2/PALSAR SAR mosaic so that strong and low backscatter pixels are assigned as \"forest\" and \"non-forest\", respectively. Here, \"forest\" is defined as the natural forest with the area larger than 0.5 ha and forest cover over 10%. This definition is the same as the Food and Agriculture Organization (FAO) definition. Since the radar backscatter from the forest depends on the region (climate zone), the classification of Forest/Non-Forest is conducted by using a region-dependent threshold of backscatter. The classification accuracy is checked by using in-situ photos and high-resolution optical satellite images. Detailed information is available in the provider's Dataset Description."
   ]
  },
  {
   "cell_type": "code",
   "execution_count": 30,
   "id": "8a367bc5",
   "metadata": {},
   "outputs": [
    {
     "name": "stderr",
     "output_type": "stream",
     "text": [
      "\r",
      "  0%|          | 0/6 [00:00<?, ?it/s]"
     ]
    },
    {
     "name": "stdout",
     "output_type": "stream",
     "text": [
      "2007\n"
     ]
    },
    {
     "name": "stderr",
     "output_type": "stream",
     "text": [
      "\r",
      " 17%|█▋        | 1/6 [00:00<00:01,  3.10it/s]"
     ]
    },
    {
     "name": "stdout",
     "output_type": "stream",
     "text": [
      "2008\n"
     ]
    },
    {
     "name": "stderr",
     "output_type": "stream",
     "text": [
      "\r",
      " 33%|███▎      | 2/6 [00:00<00:01,  2.82it/s]"
     ]
    },
    {
     "name": "stdout",
     "output_type": "stream",
     "text": [
      "2009\n"
     ]
    },
    {
     "name": "stderr",
     "output_type": "stream",
     "text": [
      "\r",
      " 50%|█████     | 3/6 [00:00<00:00,  3.10it/s]"
     ]
    },
    {
     "name": "stdout",
     "output_type": "stream",
     "text": [
      "2015\n"
     ]
    },
    {
     "name": "stderr",
     "output_type": "stream",
     "text": [
      "\r",
      " 67%|██████▋   | 4/6 [00:01<00:00,  3.12it/s]"
     ]
    },
    {
     "name": "stdout",
     "output_type": "stream",
     "text": [
      "2016\n"
     ]
    },
    {
     "name": "stderr",
     "output_type": "stream",
     "text": [
      "\r",
      " 83%|████████▎ | 5/6 [00:01<00:00,  3.26it/s]"
     ]
    },
    {
     "name": "stdout",
     "output_type": "stream",
     "text": [
      "2017\n"
     ]
    },
    {
     "name": "stderr",
     "output_type": "stream",
     "text": [
      "100%|██████████| 6/6 [00:01<00:00,  3.24it/s]\n"
     ]
    }
   ],
   "source": [
    "\n",
    "geometry = area\n",
    "# For some reason, no data from 2011 - 2014\n",
    "years = list(range(2007, 2010)) + list(range(2015,2018))\n",
    "\n",
    "lc_ims = {}\n",
    "for y in tqdm(years):\n",
    "    print(y)\n",
    "    year_lc = ee.ImageCollection('JAXA/ALOS/PALSAR/YEARLY/FNF').filterDate('{}-01-01'.format(str(y)), '{}-12-31'.format(str(y)))\n",
    "    lc = ee.Image(year_lc.first())\n",
    "    # Compile CDL\n",
    "    lc_dat = ee.Image.pixelLonLat().addBands(lc).clip(geometry).reduceRegion(reducer=ee.Reducer.toList(),geometry=geometry,scale=30)\n",
    "    lc_dict = lc_dat.getInfo()\n",
    "    # Make the ims \n",
    "    lc_im = dict2arr(lc_dict, 'fnf')\n",
    "    lc_ims[y] = lc_im"
   ]
  },
  {
   "cell_type": "code",
   "execution_count": 31,
   "id": "f8e9d952",
   "metadata": {},
   "outputs": [],
   "source": [
    "def get_eligible_pix(im, eligible_list = [2]):\n",
    "    \n",
    "    # return 1 for eligible pixels (non forest), 0 otherwise \n",
    "    # \n",
    "\n",
    "    bin_im = np.zeros_like(im)\n",
    "    for rowidx in range(0,im.shape[0]):\n",
    "        for colidx in range(0,im.shape[1]):\n",
    "            if im[rowidx,colidx] in eligible_list:\n",
    "                bin_im[rowidx,colidx] = 1\n",
    "            else:\n",
    "                bin_im[rowidx,colidx] = 0   \n",
    "    bin_im = np.where(bin_im==0, np.nan, bin_im)\n",
    "\n",
    "    return bin_im\n",
    "\n",
    "el_ims = {}\n",
    "\n",
    "for year,im in lc_ims.items():\n",
    "    el = get_eligible_pix(im)\n",
    "    el_ims[year] = el"
   ]
  },
  {
   "cell_type": "code",
   "execution_count": 32,
   "id": "b2adc7b4",
   "metadata": {},
   "outputs": [
    {
     "data": {
      "text/plain": [
       "<matplotlib.colorbar.Colorbar at 0x7fe3d3703c10>"
      ]
     },
     "execution_count": 32,
     "metadata": {},
     "output_type": "execute_result"
    },
    {
     "data": {
      "image/png": "[encoded data removed]",
      "text/plain": [
       "<Figure size 460.8x316.8 with 2 Axes>"
      ]
     },
     "metadata": {
      "needs_background": "light"
     },
     "output_type": "display_data"
    }
   ],
   "source": [
    "t = np.nansum(np.dstack(list(el_ims.values())[:]), axis = 2)\n",
    "t2 = apply_mask(t,mask)\n",
    "\n",
    "plt.imshow(t2/6)\n",
    "plt.title(\"probability of NON-forest from 2007 - 2010 and 2016 - 2019\")\n",
    "plt.axis('off')\n",
    "plt.colorbar()"
   ]
  },
  {
   "cell_type": "code",
   "execution_count": 33,
   "id": "ece83a8a",
   "metadata": {},
   "outputs": [
    {
     "name": "stdout",
     "output_type": "stream",
     "text": [
      "Area of >80% forest cover = 0.884375\n",
      "fraction of area that is eligible = 0.7020678353877204\n"
     ]
    }
   ],
   "source": [
    "thresh_im = t2/6\n",
    "thresh_im[thresh_im < 0.8] = 0\n",
    "thresh_im[thresh_im >= 0.8] = 1\n",
    "\n",
    "npix_eligible = np.count_nonzero(~np.isnan(thresh_im))\n",
    "eligible_area_km2 =  25 * 25 * 1e-6 * npix_eligible\n",
    "\n",
    "print(\"Area of >80% forest cover = {}\".format(eligible_area_km2)) # sq m to sq km\n",
    "print(\"fraction of area that is eligible = {}\".format(eligible_area_km2 / area_sqkm))"
   ]
  },
  {
   "cell_type": "code",
   "execution_count": 34,
   "id": "6b84d50b",
   "metadata": {},
   "outputs": [
    {
     "data": {
      "text/plain": [
       "{2007: 0.42059008160703076,\n",
       " 2008: 0.4438166980539862,\n",
       " 2009: 0.4438166980539862,\n",
       " 2015: 0.44413057124921534,\n",
       " 2016: 0.44318895166352795,\n",
       " 2017: 0.44413057124921534}"
      ]
     },
     "execution_count": 34,
     "metadata": {},
     "output_type": "execute_result"
    }
   ],
   "source": [
    "# percent eligible by year \n",
    "pixsum = np.nansum(np.dstack(list(el_ims.values())[:]), axis =2)\n",
    "npix = np.count_nonzero(~np.isnan(pixsum))\n",
    "\n",
    "{k:np.nansum(v) / npix for k,v in el_ims.items()}"
   ]
  },
  {
   "cell_type": "markdown",
   "id": "74bd0341",
   "metadata": {},
   "source": [
    "# Wetlands Data from CIFOR \n",
    "\n",
    "https://www2.cifor.org/global-wetlands/\n",
    "\n",
    "The Global Wetlands Map covers the tropics and subtropics regions (40° N to 60° S; 180° E to -180° W), excluding small islands. This mapping is a hydro-geomorphological model based on an Expert System approach to estimate wetland areas, which relies on three biophysical indices related to wetland and peat formation: (1) long-term water supply exceeding atmospheric water demand; (2) annually or seasonally waterlogged soils; and (3) a geomorphological position where water is supplied and retained (Gumbricht et al. 2017)."
   ]
  },
  {
   "cell_type": "code",
   "execution_count": 35,
   "id": "3112ffbb",
   "metadata": {},
   "outputs": [],
   "source": [
    "bbox_geom = gdf.copy()\n",
    "bbox_geom['geometry'] = bbox_geom.envelope"
   ]
  },
  {
   "cell_type": "code",
   "execution_count": null,
   "id": "c6941e6b",
   "metadata": {},
   "outputs": [],
   "source": []
  },
  {
   "cell_type": "code",
   "execution_count": 36,
   "id": "366c4289",
   "metadata": {},
   "outputs": [
    {
     "name": "stderr",
     "output_type": "stream",
     "text": [
      "<ipython-input-36-97b4aae79387>:3: UserWarning: Column names longer than 10 characters will be truncated when saved to ESRI Shapefile.\n",
      "  bbox_geom.to_file(fn.replace(\"kml\",\"shp\"))\n"
     ]
    }
   ],
   "source": [
    "bbox_geom = gdf.copy()\n",
    "bbox_geom['geometry'] = bbox_geom['geometry'].envelope\n",
    "bbox_geom.to_file(fn.replace(\"kml\",\"shp\"))\n",
    "\n",
    "# Clip raster to shapefile extent\n",
    "wetlands = os.path.abspath(\"../data/wetlands/TROP-SUBTROP_WetlandV3b_2016_CIFOR.tif\")\n",
    "shpfns = [os.path.join(\"../shape\",x) for x in os.listdir(\"../shape/\") if x.endswith(\".shp\")]\n",
    "clip_dir = os.path.abspath(os.path.join(\"../data/wetlands/\",\"clipped\"))\n",
    "if not os.path.exists(clip_dir):\n",
    "    os.mkdir(clip_dir)\n",
    "\n",
    "out_files = []\n",
    "for shp in shpfns:\n",
    "    out_tif = os.path.abspath(shp).replace(\"shape\",'data/wetlands/clipped').split(\".\")[0]  + \".tif\"\n",
    "    out_files.append(out_tif)\n",
    "    if not os.path.exists(out_tif):\n",
    "        clip_cmd = '''gdalwarp -cutline {} -crop_to_cutline {} {}'''.format(os.path.abspath(shp),wetlands,out_tif)\n",
    "        print(clip_cmd)\n",
    "        os.system(clip_cmd)"
   ]
  },
  {
   "cell_type": "code",
   "execution_count": 37,
   "id": "1289c2ef",
   "metadata": {},
   "outputs": [
    {
     "name": "stdout",
     "output_type": "stream",
     "text": [
      "NO WETLANDS DETECTED IN PROJECT AREA\n"
     ]
    }
   ],
   "source": [
    "for file in out_files:\n",
    "    if os.path.exists(file):\n",
    "        src = rio.open(file)\n",
    "        arr = src.read(1)\n",
    "        if np.nansum(arr) == 0:\n",
    "            print(\"NO WETLANDS DETECTED IN PROJECT AREA\")\n",
    "        else:\n",
    "            print(\"WETLANDS DETECTED, see {} for more information \".format(file))\n",
    "    else:\n",
    "        print(\"NO WETLANDS FILE FOR STUDY AREA\")"
   ]
  },
  {
   "cell_type": "markdown",
   "id": "18174849",
   "metadata": {},
   "source": [
    "# SOC Data from FAO\n",
    "\n",
    "https://www.fao.org/soils-portal/data-hub/soil-maps-and-databases/global-soil-organic-carbon-map-gsocmap/en/\n",
    "\n",
    "https://www.fao.org/3/I8891EN/i8891en.pdf\n",
    "\n",
    "Flag areas where SOC >50% (histosol definition, I believe)\n",
    "\n",
    "* need to convert T / ha --> %s \n"
   ]
  },
  {
   "cell_type": "code",
   "execution_count": 38,
   "id": "8a1b8ced",
   "metadata": {},
   "outputs": [],
   "source": [
    "# Clip raster to shapefile extent\n",
    "soc = os.path.abspath(\"../data/soil_carbon/GSOCmap1.5.0.tif\")\n",
    "shpfns = [os.path.join(\"../shape\",x) for x in os.listdir(\"../shape/\") if x.endswith(\".shp\")]\n",
    "clip_dir = os.path.abspath(os.path.join(\"../data/soil_carbon/\",\"clipped\"))\n",
    "if not os.path.exists(clip_dir):\n",
    "    os.mkdir(clip_dir)\n",
    "\n",
    "out_files = []\n",
    "for shp in shpfns:\n",
    "    out_tif = os.path.abspath(shp).replace(\"shape\",'data/soil_carbon/clipped').split(\".\")[0]  + \".tif\"\n",
    "    out_files.append(out_tif)\n",
    "    if not os.path.exists(out_tif):\n",
    "        clip_cmd = '''gdalwarp -cutline {} -crop_to_cutline -dstalpha {} {}'''.format(os.path.abspath(shp),soc,out_tif)\n",
    "        print(clip_cmd)\n",
    "        os.system(clip_cmd)"
   ]
  },
  {
   "cell_type": "code",
   "execution_count": 39,
   "id": "d1c2c44a",
   "metadata": {},
   "outputs": [
    {
     "data": {
      "image/png": "[encoded data removed]",
      "text/plain": [
       "<Figure size 460.8x316.8 with 2 Axes>"
      ]
     },
     "metadata": {
      "needs_background": "light"
     },
     "output_type": "display_data"
    }
   ],
   "source": [
    "for file in out_files:\n",
    "    if os.path.exists(file):\n",
    "        src = rio.open(file)\n",
    "        arr = src.read(1)\n",
    "        arr[arr==0] = np.nan\n",
    "        plt.imshow(arr);plt.colorbar(); plt.axis('off'); plt.show()"
   ]
  },
  {
   "cell_type": "code",
   "execution_count": null,
   "id": "5d1640a2",
   "metadata": {},
   "outputs": [],
   "source": []
  }
 ],
 "metadata": {
  "kernelspec": {
   "display_name": "Python 3",
   "language": "python",
   "name": "python3"
  },
  "language_info": {
   "codemirror_mode": {
    "name": "ipython",
    "version": 3
   },
   "file_extension": ".py",
   "mimetype": "text/x-python",
   "name": "python",
   "nbconvert_exporter": "python",
   "pygments_lexer": "ipython3",
   "version": "3.8.10"
  }
 },
 "nbformat": 4,
 "nbformat_minor": 5
}
